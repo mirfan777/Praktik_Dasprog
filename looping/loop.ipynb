{
 "cells": [
  {
   "cell_type": "code",
   "execution_count": null,
   "metadata": {},
   "outputs": [],
   "source": [
    "Nama = \"Maulana Irfan\"\n",
    "Kelas = \"B-1\"\n",
    "Nim = \"J0403231010\""
   ]
  },
  {
   "cell_type": "code",
   "execution_count": 1,
   "metadata": {},
   "outputs": [
    {
     "name": "stdout",
     "output_type": "stream",
     "text": [
      "One of my favorite desserts is Churros\n",
      "One of my favorite desserts is Tiramisú\n",
      "One of my favorite desserts is Pudding\n"
     ]
    }
   ],
   "source": [
    "favorites = ['Churros', 'Tiramisú', 'Pudding']\n",
    "\n",
    "count = 0\t\t# count is iteration variable\n",
    "\n",
    "while count < len(favorites):\n",
    "    print('One of my favorite desserts is', favorites[count]);\n",
    "    count += 1\n"
   ]
  },
  {
   "cell_type": "code",
   "execution_count": 4,
   "metadata": {},
   "outputs": [
    {
     "name": "stdout",
     "output_type": "stream",
     "text": [
      "1210\n",
      "It took 1 minutes for the bacteria to double.\n",
      "The final population was 1210 bacteria.\n",
      "1464\n",
      "It took 2 minutes for the bacteria to double.\n",
      "The final population was 1464 bacteria.\n",
      "1772\n",
      "It took 3 minutes for the bacteria to double.\n",
      "The final population was 1772 bacteria.\n",
      "2144\n",
      "It took 4 minutes for the bacteria to double.\n",
      "The final population was 2144 bacteria.\n"
     ]
    }
   ],
   "source": [
    "time = 0\n",
    "population = 1000 # 1000 bacteria to start with\n",
    "growth_rate = 0.21 # 21% growth per minute\n",
    "while population < 2000:\n",
    "    population = population + growth_rate * population\n",
    "    print(round(population))\n",
    "    time = time + 1\n",
    "    print(\"It took\", time, \"minutes for the bacteria to double.\")\n",
    "    print(\"The final population was\", round(population), \"bacteria.\")\n"
   ]
  },
  {
   "cell_type": "code",
   "execution_count": 1,
   "metadata": {},
   "outputs": [
    {
     "name": "stdout",
     "output_type": "stream",
     "text": [
      "One of my favorite desserts is Churros\n",
      "One of my favorite desserts is Tiramisú\n",
      "One of my favorite desserts is Pudding\n"
     ]
    }
   ],
   "source": [
    "favorites = ['Churros', 'Tiramisú', 'Pudding']\n",
    "\n",
    "for dessert in favorites:\n",
    "    print('One of my favorite desserts is', dessert)\n"
   ]
  },
  {
   "cell_type": "code",
   "execution_count": 2,
   "metadata": {},
   "outputs": [
    {
     "name": "stdout",
     "output_type": "stream",
     "text": [
      "R e p u b l i k   I n d o n e s i a "
     ]
    }
   ],
   "source": [
    "country = 'Republik Indonesia'\n",
    "for ch in country:\n",
    "    print(ch, end=' ')\n"
   ]
  },
  {
   "cell_type": "code",
   "execution_count": 3,
   "metadata": {},
   "outputs": [
    {
     "name": "stdout",
     "output_type": "stream",
     "text": [
      "Number of positive responses: 4\n"
     ]
    }
   ],
   "source": [
    "survey_responses = [\"positive\", \"neutral\", \"positive\", \"negative\", \"positive\", \"positive\", \"neutral\"]\n",
    "\n",
    "positive_count = 0\n",
    "\n",
    "for response in survey_responses:\n",
    "    if response == \"positive\":\n",
    "        positive_count += 1\n",
    "\n",
    "print(f\"Number of positive responses: {positive_count}\")\n"
   ]
  },
  {
   "cell_type": "code",
   "execution_count": 4,
   "metadata": {},
   "outputs": [
    {
     "name": "stdout",
     "output_type": "stream",
     "text": [
      "Total revenue: $302.00\n"
     ]
    }
   ],
   "source": [
    "sales_transactions = [100.50, 75.25, 50.75, 30.00, 45.50]\n",
    "\n",
    "total_revenue = 0\n",
    "\n",
    "for transaction in sales_transactions:\n",
    "    total_revenue += transaction\n",
    "\n",
    "print(f\"Total revenue: ${total_revenue:.2f}\")\n"
   ]
  },
  {
   "cell_type": "code",
   "execution_count": 5,
   "metadata": {},
   "outputs": [
    {
     "name": "stdout",
     "output_type": "stream",
     "text": [
      "Spam emails:\n",
      "user1@spam.com\n",
      "user3@spam.com\n"
     ]
    }
   ],
   "source": [
    "email_addresses = [\"user1@spam.com\", \"user2@gmail.com\", \"user3@spam.com\"]\n",
    "\n",
    "spam_emails = []\n",
    "\n",
    "for email in email_addresses:\n",
    "    if email.endswith(\"@spam.com\"):\n",
    "        spam_emails.append(email)\t\t\n",
    "\n",
    "print(\"Spam emails:\")\n",
    "for email in spam_emails:\n",
    "    print(email)\n"
   ]
  },
  {
   "cell_type": "code",
   "execution_count": 6,
   "metadata": {},
   "outputs": [
    {
     "name": "stdout",
     "output_type": "stream",
     "text": [
      "Student Charlie found.\n"
     ]
    }
   ],
   "source": [
    "student_names = [\"Alice\", \"Bob\", \"Charlie\", \"David\"]\n",
    "student_name_to_search = \"Charlie\"\n",
    "\n",
    "student_found = False\n",
    "\n",
    "for name in student_names:\n",
    "    if name == student_name_to_search:\n",
    "        student_found = True\n",
    "        break\n",
    "\n",
    "if student_found:\n",
    "    print(f\"Student {student_name_to_search} found.\")\n",
    "else:\n",
    "    print(f\"Student {student_name_to_search} not found.\")\n"
   ]
  },
  {
   "cell_type": "code",
   "execution_count": 7,
   "metadata": {},
   "outputs": [
    {
     "name": "stdout",
     "output_type": "stream",
     "text": [
      "The maximum temperature of the week was 91°F.\n"
     ]
    }
   ],
   "source": [
    "temperatures = [75, 82, 79, 88, 91, 84, 77]\n",
    "max_temperature = temperatures[0]\n",
    "\n",
    "for temperature in temperatures:\n",
    "    if temperature > max_temperature:\n",
    "        max_temperature = temperature\n",
    "\n",
    "print(f\"The maximum temperature of the week was {max_temperature}°F.\")\n"
   ]
  },
  {
   "cell_type": "code",
   "execution_count": 10,
   "metadata": {},
   "outputs": [
    {
     "name": "stdout",
     "output_type": "stream",
     "text": [
      "Get ready for liftoff!\n",
      "5...\n",
      "4...\n",
      "3...\n",
      "2...\n",
      "1...\n",
      "Blast off!\n"
     ]
    }
   ],
   "source": [
    "import time\n",
    "\n",
    "countdown_seconds = 5\n",
    "\n",
    "print(\"Get ready for liftoff!\")\n",
    "for remaining_seconds in range(countdown_seconds, 0, -1):\n",
    "    print(f\"{remaining_seconds}...\")\n",
    "    time.sleep(1)\n",
    "\n",
    "print(\"Blast off!\")\n"
   ]
  },
  {
   "cell_type": "code",
   "execution_count": 11,
   "metadata": {},
   "outputs": [
    {
     "name": "stdout",
     "output_type": "stream",
     "text": [
      "LiF\n",
      "LiCl\n",
      "LiBr\n",
      "NaF\n",
      "NaCl\n",
      "NaBr\n",
      "KF\n",
      "KCl\n",
      "KBr\n"
     ]
    }
   ],
   "source": [
    "outer = ['Li', 'Na', 'K']\n",
    "inner = ['F', 'Cl', 'Br']\n",
    "for metal in outer:\n",
    "    for halogen in inner:\n",
    "        print(metal + halogen)\n"
   ]
  },
  {
   "cell_type": "code",
   "execution_count": 12,
   "metadata": {},
   "outputs": [
    {
     "name": "stdout",
     "output_type": "stream",
     "text": [
      "My favorite is Pudding\n"
     ]
    }
   ],
   "source": [
    "favorites = ['Churros', 'Tiramisú', 'Pudding']\n",
    "\n",
    "for dessert in favorites:\n",
    "    if dessert == 'Pudding':\n",
    "        print('My favorite is', dessert)\n",
    "        break \n",
    "else:\n",
    "    print('No sorry, not a dessert on my list')\n"
   ]
  },
  {
   "cell_type": "code",
   "execution_count": 13,
   "metadata": {},
   "outputs": [
    {
     "name": "stdout",
     "output_type": "stream",
     "text": [
      "Other desserts I like are Tiramisú\n",
      "Other desserts I like are Pudding\n"
     ]
    }
   ],
   "source": [
    "favorites = ['Churros', 'Tiramisú', 'Pudding']\n",
    "\n",
    "for dessert in favorites:\n",
    "    if dessert == 'Churros':\n",
    "        continue\n",
    "    print('Other desserts I like are', dessert)\n"
   ]
  },
  {
   "cell_type": "code",
   "execution_count": 16,
   "metadata": {},
   "outputs": [
    {
     "name": "stdout",
     "output_type": "stream",
     "text": [
      "a\n",
      "a\n"
     ]
    }
   ],
   "source": [
    "customers = [\"Alice\", \"Bob\", \"Charlie\"]\n",
    "\n",
    "for customer in customers:\n",
    "    if customer == \"Charlie\":\n",
    "        pass  # Implementation for Charlie later\n",
    "    else:\n",
    "        print(\"a\")\n",
    "\n"
   ]
  },
  {
   "cell_type": "code",
   "execution_count": 17,
   "metadata": {},
   "outputs": [
    {
     "name": "stdout",
     "output_type": "stream",
     "text": [
      "Bob scored 92\n"
     ]
    }
   ],
   "source": [
    "students = [\"Alice\", \"Bob\", \"Charlie\", \"David\"]\n",
    "scores = [85, 92, 78, 88]\n",
    "threshold = 90\n",
    "\n",
    "# GOOD: Find who scored above threshold using zip()\n",
    "for student, score in zip(students, scores):\n",
    "    if score > threshold:\n",
    "        print(f\"{student} scored {score}\")\n"
   ]
  },
  {
   "cell_type": "code",
   "execution_count": 18,
   "metadata": {},
   "outputs": [
    {
     "name": "stdout",
     "output_type": "stream",
     "text": [
      "Distance between points 0 and 1: 2.83\n",
      "Distance between points 0 and 2: 5.66\n",
      "Distance between points 0 and 3: 8.49\n",
      "Distance between points 1 and 2: 2.83\n",
      "Distance between points 1 and 3: 5.66\n",
      "Distance between points 2 and 3: 2.83\n"
     ]
    }
   ],
   "source": [
    "import math\n",
    "\n",
    "# Sample list of points as (x, y) coordinates\n",
    "points = [(1, 2), (3, 4), (5, 6), (7, 8)]\n",
    "\n",
    "# Calculate distances between each pair of points\n",
    "distances = {}\n",
    "\n",
    "for i, point1 in enumerate(points):\n",
    "    for j, point2 in enumerate(points):\n",
    "        if i < j:  # Avoid redundancy (i.e., distance point1 and point2 = point2 and point1)\n",
    "            x1, y1 = point1\n",
    "            x2, y2 = point2\n",
    "            distance = math.sqrt((x2 - x1) ** 2 + (y2 - y1) ** 2)\n",
    "            distances[(i, j)] = distance\n",
    "\n",
    "# Print the distances\n",
    "for (i, j), distance in distances.items():\n",
    "    print(f\"Distance between points {i} and {j}: {distance:.2f}\")\n"
   ]
  }
 ],
 "metadata": {
  "kernelspec": {
   "display_name": "Python 3",
   "language": "python",
   "name": "python3"
  },
  "language_info": {
   "codemirror_mode": {
    "name": "ipython",
    "version": 3
   },
   "file_extension": ".py",
   "mimetype": "text/x-python",
   "name": "python",
   "nbconvert_exporter": "python",
   "pygments_lexer": "ipython3",
   "version": "3.11.2"
  },
  "orig_nbformat": 4
 },
 "nbformat": 4,
 "nbformat_minor": 2
}
